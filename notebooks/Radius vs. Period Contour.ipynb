{
 "cells": [
  {
   "cell_type": "code",
   "execution_count": 24,
   "metadata": {},
   "outputs": [
    {
     "name": "stdout",
     "output_type": "stream",
     "text": [
      "read table cksgaia-planets-weights from load_table_cache.hdf\n"
     ]
    }
   ],
   "source": [
    "%matplotlib tk\n",
    "\n",
    "import pylab as pl\n",
    "\n",
    "import cksgaia\n",
    "from cksgaia.plot.contour import period_contour_cks\n",
    "from cksgaia.io import load_table\n",
    "\n",
    "full_sample = load_table('cksgaia-planets-weights')"
   ]
  },
  {
   "cell_type": "code",
   "execution_count": 40,
   "metadata": {},
   "outputs": [
    {
     "name": "stdout",
     "output_type": "stream",
     "text": [
      "(0.4, 0.05)\n",
      "919.0 0.0449125047935\n",
      "read table kic-filtered from load_table_cache.hdf\n"
     ]
    }
   ],
   "source": [
    "pl.clf()\n",
    "# make the standard radius vs. period contour plot\n",
    "period_contour_cks(sample=full_sample)\n",
    "ax = pl.gca()\n",
    "\n",
    "# add a custom point\n",
    "ax.errorbar([4.79507], [2.77], xerr=[0], yerr=[0.12], \n",
    "            mew=1, fmt='w*', ms=10, ecolor='k', elinewidth=1.5, capthick=1.5)\n",
    "\n",
    "pl.savefig('/Users/bfulton/Dropbox/plots/period_contour.pdf')"
   ]
  },
  {
   "cell_type": "code",
   "execution_count": 43,
   "metadata": {},
   "outputs": [
    {
     "name": "stdout",
     "output_type": "stream",
     "text": [
      "read table kic-filtered from load_table_cache.hdf\n",
      "(0.4, 0.05)\n",
      "335.0 0.0452918816241\n",
      "read table kic-filtered from load_table_cache.hdf\n"
     ]
    }
   ],
   "source": [
    "pl.clf()\n",
    "\n",
    "lowcut = 0.97\n",
    "\n",
    "kicselect = load_table('kic-filtered')\n",
    "kicselect = cksgaia.completeness.fit_cdpp(kicselect)\n",
    "\n",
    "sample = full_sample.query('giso_smass < @lowcut')\n",
    "kicsample = kicselect.query('m17_smass < @lowcut')\n",
    "\n",
    "sample = cksgaia.completeness.get_weights(sample, kicsample)\n",
    "\n",
    "# get 25% completeness limits\n",
    "pl.figure(2)\n",
    "cx, cy = cksgaia.completeness.get_sensitivity_contour(kicsample, 0.25)\n",
    "\n",
    "pl.figure(1)\n",
    "pl.subplots_adjust(right=0.91, left=0.15)\n",
    "period_contour_cks(sample=sample, kwidth=(0.40, 0.05), vlims=(0.0, 0.025))\n",
    "\n",
    "ax = pl.gca()\n",
    "ax.errorbar([4.79507], [2.77], xerr=[0], yerr=[0.12], \n",
    "            mew=1, fmt='w*', ms=10, ecolor='k', elinewidth=1.5, capthick=1.5)\n",
    "\n",
    "pl.savefig('/Users/bfulton/Dropbox/plots/period_contour_lowmass.pdf')"
   ]
  },
  {
   "cell_type": "code",
   "execution_count": null,
   "metadata": {},
   "outputs": [],
   "source": []
  }
 ],
 "metadata": {
  "kernelspec": {
   "display_name": "Python 2",
   "language": "python",
   "name": "python2"
  },
  "language_info": {
   "codemirror_mode": {
    "name": "ipython",
    "version": 2
   },
   "file_extension": ".py",
   "mimetype": "text/x-python",
   "name": "python",
   "nbconvert_exporter": "python",
   "pygments_lexer": "ipython2",
   "version": "2.7.14"
  }
 },
 "nbformat": 4,
 "nbformat_minor": 2
}
